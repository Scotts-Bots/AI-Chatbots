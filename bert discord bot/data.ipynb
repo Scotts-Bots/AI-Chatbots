{
 "cells": [
  {
   "cell_type": "code",
   "execution_count": 42,
   "metadata": {},
   "outputs": [],
   "source": [
    "import re\n",
    "import pandas as pd\n",
    "import numpy as np\n",
    "\n",
    "from datetime import datetime"
   ]
  },
  {
   "cell_type": "code",
   "execution_count": 2,
   "metadata": {},
   "outputs": [],
   "source": [
    "chat_list = []\n",
    "with open('../private-information/chat_hist_nocarry.txt', encoding=\"utf8\") as f:\n",
    "    lines = f.readlines()\n",
    "    chat_list.append(lines)"
   ]
  },
  {
   "cell_type": "code",
   "execution_count": 3,
   "metadata": {},
   "outputs": [
    {
     "name": "stdout",
     "output_type": "stream",
     "text": [
      "10902 messages\n"
     ]
    },
    {
     "data": {
      "text/plain": [
       "['2020/07/24, 22:04 - Messages and calls are end-to-end encrypted. No one outside of this chat, not even WhatsApp, can read or listen to them. Tap to learn more.\\n',\n",
       " '2020/07/27, 15:04 - PHP GUY: <Media omitted>\\n',\n",
       " \"2020/07/27, 15:08 - Wezley: Someone didn't think this through properly 😂\\n\",\n",
       " '2020/07/27, 15:18 - PHP GUY: Bra😂\\n',\n",
       " '2020/07/27, 15:19 - Wezley: I wonder how many people at Sony saw this before it was finalized and were like \"hmm. Looks about right\"\\n',\n",
       " '2020/07/27, 17:57 - Mo: Why is the 12-month deal so expensive holy shit\\n',\n",
       " '2020/07/27, 17:57 - Mo: Why are all the options so expensive holy shit\\n',\n",
       " '2020/07/27, 19:28 - Tristan: <Media omitted>\\n',\n",
       " '2020/07/27, 19:29 - Mo: <Media omitted>\\n',\n",
       " '2020/07/27, 19:29 - Mo: Delete that\\n']"
      ]
     },
     "execution_count": 3,
     "metadata": {},
     "output_type": "execute_result"
    }
   ],
   "source": [
    "num_messages = len(chat_list[0])\n",
    "print(num_messages, \"messages\")\n",
    "chat_list[0][:10]"
   ]
  },
  {
   "cell_type": "code",
   "execution_count": 52,
   "metadata": {},
   "outputs": [],
   "source": [
    "dates = []\n",
    "times = []\n",
    "names = []\n",
    "texts = []\n",
    "\n",
    "for i in range(1,num_messages): \n",
    "    date = re.findall('\\d\\d\\d\\d/\\d\\d/\\d\\d', chat_list[0][i])\n",
    "    time = re.findall('\\d\\d:\\d\\d', chat_list[0][i])\n",
    "    name = re.findall('- (.*?):', chat_list[0][i] )\n",
    "    text = re.findall(\": (.*)\", chat_list[0][i] )\n",
    "\n",
    "    if len(name) != 0 and  len(date) != 0:\n",
    "      names.append(name[0])\n",
    "      texts.append(text[0])\n",
    "      dates.append(datetime.strptime(date[0], '%Y/%m/%d').date())\n",
    "      times.append(datetime.strptime(time[0], '%H:%M').time())\n",
    "    # else:\n",
    "    #   print(chat_list[0][i])"
   ]
  },
  {
   "cell_type": "code",
   "execution_count": 53,
   "metadata": {},
   "outputs": [
    {
     "name": "stdout",
     "output_type": "stream",
     "text": [
      "Joshe  :  2087\n",
      "Mo  :  2267\n",
      "Neelan  :  862\n",
      "PHP GUY  :  3138\n",
      "Shahil  :  82\n",
      "Sheslin  :  578\n",
      "Tristan  :  1490\n",
      "Wezley  :  386\n"
     ]
    }
   ],
   "source": [
    "unique_names, name_counts = np.unique(names, return_counts=True)\n",
    "for i in range(len(unique_names)):\n",
    "    print(unique_names[i], \" : \", name_counts[i])\n"
   ]
  },
  {
   "cell_type": "code",
   "execution_count": 54,
   "metadata": {},
   "outputs": [],
   "source": [
    "data = {\"date\":dates, \"time\":times, \"name\":names, \"text\":texts}\n",
    "chat_data = pd.DataFrame(data=data, columns=[\"date\", \"time\",\"name\",\"text\"])"
   ]
  },
  {
   "cell_type": "code",
   "execution_count": 59,
   "metadata": {},
   "outputs": [
    {
     "name": "stdout",
     "output_type": "stream",
     "text": [
      "<class 'pandas.core.frame.DataFrame'>\n",
      "RangeIndex: 10890 entries, 0 to 10889\n",
      "Data columns (total 4 columns):\n",
      " #   Column  Non-Null Count  Dtype \n",
      "---  ------  --------------  ----- \n",
      " 0   date    10890 non-null  object\n",
      " 1   time    10890 non-null  object\n",
      " 2   name    10890 non-null  object\n",
      " 3   text    10890 non-null  object\n",
      "dtypes: object(4)\n",
      "memory usage: 340.4+ KB\n"
     ]
    }
   ],
   "source": [
    "chat_data.head()\n",
    "chat_data.info()"
   ]
  },
  {
   "cell_type": "code",
   "execution_count": 62,
   "metadata": {},
   "outputs": [
    {
     "data": {
      "text/html": [
       "<div>\n",
       "<style scoped>\n",
       "    .dataframe tbody tr th:only-of-type {\n",
       "        vertical-align: middle;\n",
       "    }\n",
       "\n",
       "    .dataframe tbody tr th {\n",
       "        vertical-align: top;\n",
       "    }\n",
       "\n",
       "    .dataframe thead th {\n",
       "        text-align: right;\n",
       "    }\n",
       "</style>\n",
       "<table border=\"1\" class=\"dataframe\">\n",
       "  <thead>\n",
       "    <tr style=\"text-align: right;\">\n",
       "      <th></th>\n",
       "      <th>date</th>\n",
       "      <th>time</th>\n",
       "      <th>name</th>\n",
       "      <th>text</th>\n",
       "    </tr>\n",
       "  </thead>\n",
       "  <tbody>\n",
       "  </tbody>\n",
       "</table>\n",
       "</div>"
      ],
      "text/plain": [
       "Empty DataFrame\n",
       "Columns: [date, time, name, text]\n",
       "Index: []"
      ]
     },
     "execution_count": 62,
     "metadata": {},
     "output_type": "execute_result"
    }
   ],
   "source": []
  }
 ],
 "metadata": {
  "kernelspec": {
   "display_name": "Python 3",
   "language": "python",
   "name": "python3"
  },
  "language_info": {
   "codemirror_mode": {
    "name": "ipython",
    "version": 3
   },
   "file_extension": ".py",
   "mimetype": "text/x-python",
   "name": "python",
   "nbconvert_exporter": "python",
   "pygments_lexer": "ipython3",
   "version": "3.7.9"
  },
  "orig_nbformat": 4
 },
 "nbformat": 4,
 "nbformat_minor": 2
}
