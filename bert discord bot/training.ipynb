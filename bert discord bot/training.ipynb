{
 "cells": [
  {
   "cell_type": "code",
   "execution_count": 11,
   "metadata": {},
   "outputs": [],
   "source": [
    "import re\n",
    "import pandas as pd\n",
    "import numpy as np"
   ]
  },
  {
   "cell_type": "code",
   "execution_count": 5,
   "metadata": {},
   "outputs": [],
   "source": [
    "chat_list = []\n",
    "with open('../private-information/chat_hist.txt', encoding=\"utf8\") as f:\n",
    "    lines = f.readlines()\n",
    "    chat_list.append(lines)"
   ]
  },
  {
   "cell_type": "code",
   "execution_count": 9,
   "metadata": {},
   "outputs": [
    {
     "name": "stdout",
     "output_type": "stream",
     "text": [
      "11517 messages\n"
     ]
    },
    {
     "data": {
      "text/plain": [
       "['2020/07/24, 22:04 - Messages and calls are end-to-end encrypted. No one outside of this chat, not even WhatsApp, can read or listen to them. Tap to learn more.\\n',\n",
       " '2020/07/27, 15:04 - PHP GUY: <Media omitted>\\n',\n",
       " \"2020/07/27, 15:08 - Wezley: Someone didn't think this through properly 😂\\n\",\n",
       " '2020/07/27, 15:18 - PHP GUY: Bra😂\\n',\n",
       " '2020/07/27, 15:19 - Wezley: I wonder how many people at Sony saw this before it was finalized and were like \"hmm. Looks about right\"\\n',\n",
       " '2020/07/27, 17:57 - Mo: Why is the 12-month deal so expensive holy shit\\n',\n",
       " '2020/07/27, 17:57 - Mo: Why are all the options so expensive holy shit\\n',\n",
       " '2020/07/27, 19:28 - Tristan: <Media omitted>\\n',\n",
       " '2020/07/27, 19:29 - Mo: <Media omitted>\\n',\n",
       " '2020/07/27, 19:29 - Mo: Delete that\\n']"
      ]
     },
     "execution_count": 9,
     "metadata": {},
     "output_type": "execute_result"
    }
   ],
   "source": [
    "num_messages = len(chat_list[0])\n",
    "print(num_messages, \"messages\")\n",
    "chat_list[0][:10]"
   ]
  },
  {
   "cell_type": "code",
   "execution_count": 54,
   "metadata": {},
   "outputs": [],
   "source": [
    "carryover = \"\"\n",
    "hasCarry = False\n",
    "output_chatlist = []\n",
    "\n",
    "for i in chat_list[0][::-1]:\n",
    "    if re.match('\\d\\d\\d\\d/\\d\\d/\\d\\d, \\d\\d:\\d\\d -',i):\n",
    "        if hasCarry:\n",
    "            i = i.strip() + \" \" + carryover + \"\\n\"\n",
    "            hasCarry = False\n",
    "            carryover = \"\"\n",
    "        output_chatlist.append(i)\n",
    "    else:\n",
    "        hasCarry = True\n",
    "        carryover = i.strip() + \" \" + carryover\n",
    "\n",
    "#output_chatlist[::-1]\n",
    "\n",
    "with open(\"../private-information/chat_hist_nocarry.txt\", mode=\"w\", encoding=\"utf8\") as f:\n",
    "     for line in output_chatlist[::-1]: f.write(line)"
   ]
  },
  {
   "cell_type": "code",
   "execution_count": 12,
   "metadata": {},
   "outputs": [],
   "source": [
    "dates = []\n",
    "times = []\n",
    "names = []\n",
    "texts = []\n",
    "\n",
    "for i in range(1,num_messages): \n",
    "    date = re.findall('\\d\\d\\d\\d/\\d\\d/\\d\\d',chat_list[0][i])\n",
    "    time = re.findall('\\d\\d:\\d\\d',chat_list[0][i])\n",
    "    name = re.findall('- (.*?):',chat_list[0][i] )\n",
    "    text = re.findall(\": (.*)\",chat_list[0][i] )\n",
    "\n",
    "    if len(name) == 0:\n",
    "      names.append(\"\")\n",
    "      texts.append(chat_list[0][i])\n",
    "    else:\n",
    "      names.append(name[0])\n",
    "      texts.append(text[0])\n",
    "\n",
    "    if len(date) == 0:\n",
    "      dates.append(\"\")\n",
    "      times.append(\"\") \n",
    "    else:\n",
    "      dates.append(date[0])\n",
    "      times.append(time[0])"
   ]
  },
  {
   "cell_type": "code",
   "execution_count": 13,
   "metadata": {},
   "outputs": [],
   "source": [
    "data = {\"date\" :dates, \"time\":times, \"name\":names,\"text\":texts}\n",
    "chat_data = pd.DataFrame(data=data, columns=[\"date\", \"time\",\"name\",\"text\"])"
   ]
  },
  {
   "cell_type": "code",
   "execution_count": 15,
   "metadata": {},
   "outputs": [
    {
     "data": {
      "text/html": [
       "<div>\n",
       "<style scoped>\n",
       "    .dataframe tbody tr th:only-of-type {\n",
       "        vertical-align: middle;\n",
       "    }\n",
       "\n",
       "    .dataframe tbody tr th {\n",
       "        vertical-align: top;\n",
       "    }\n",
       "\n",
       "    .dataframe thead th {\n",
       "        text-align: right;\n",
       "    }\n",
       "</style>\n",
       "<table border=\"1\" class=\"dataframe\">\n",
       "  <thead>\n",
       "    <tr style=\"text-align: right;\">\n",
       "      <th></th>\n",
       "      <th>date</th>\n",
       "      <th>time</th>\n",
       "      <th>name</th>\n",
       "      <th>text</th>\n",
       "    </tr>\n",
       "  </thead>\n",
       "  <tbody>\n",
       "    <tr>\n",
       "      <th>0</th>\n",
       "      <td>2020/07/27</td>\n",
       "      <td>15:04</td>\n",
       "      <td>PHP GUY</td>\n",
       "      <td>&lt;Media omitted&gt;</td>\n",
       "    </tr>\n",
       "    <tr>\n",
       "      <th>1</th>\n",
       "      <td>2020/07/27</td>\n",
       "      <td>15:08</td>\n",
       "      <td>Wezley</td>\n",
       "      <td>Someone didn't think this through properly 😂</td>\n",
       "    </tr>\n",
       "    <tr>\n",
       "      <th>2</th>\n",
       "      <td>2020/07/27</td>\n",
       "      <td>15:18</td>\n",
       "      <td>PHP GUY</td>\n",
       "      <td>Bra😂</td>\n",
       "    </tr>\n",
       "    <tr>\n",
       "      <th>3</th>\n",
       "      <td>2020/07/27</td>\n",
       "      <td>15:19</td>\n",
       "      <td>Wezley</td>\n",
       "      <td>I wonder how many people at Sony saw this befo...</td>\n",
       "    </tr>\n",
       "    <tr>\n",
       "      <th>4</th>\n",
       "      <td>2020/07/27</td>\n",
       "      <td>17:57</td>\n",
       "      <td>Mo</td>\n",
       "      <td>Why is the 12-month deal so expensive holy shit</td>\n",
       "    </tr>\n",
       "    <tr>\n",
       "      <th>...</th>\n",
       "      <td>...</td>\n",
       "      <td>...</td>\n",
       "      <td>...</td>\n",
       "      <td>...</td>\n",
       "    </tr>\n",
       "    <tr>\n",
       "      <th>11511</th>\n",
       "      <td>2023/04/09</td>\n",
       "      <td>21:24</td>\n",
       "      <td>Neelan</td>\n",
       "      <td>Thats mad</td>\n",
       "    </tr>\n",
       "    <tr>\n",
       "      <th>11512</th>\n",
       "      <td>2023/04/09</td>\n",
       "      <td>21:24</td>\n",
       "      <td>Neelan</td>\n",
       "      <td>I changed the name of the code and chat channel</td>\n",
       "    </tr>\n",
       "    <tr>\n",
       "      <th>11513</th>\n",
       "      <td>2023/04/09</td>\n",
       "      <td>21:32</td>\n",
       "      <td>PHP GUY</td>\n",
       "      <td>&lt;Media omitted&gt;</td>\n",
       "    </tr>\n",
       "    <tr>\n",
       "      <th>11514</th>\n",
       "      <td>2023/04/09</td>\n",
       "      <td>21:32</td>\n",
       "      <td>PHP GUY</td>\n",
       "      <td>@27725810445</td>\n",
       "    </tr>\n",
       "    <tr>\n",
       "      <th>11515</th>\n",
       "      <td>2023/04/09</td>\n",
       "      <td>21:33</td>\n",
       "      <td>Tristan</td>\n",
       "      <td>😪everyday we stay further away from God</td>\n",
       "    </tr>\n",
       "  </tbody>\n",
       "</table>\n",
       "<p>11516 rows × 4 columns</p>\n",
       "</div>"
      ],
      "text/plain": [
       "             date   time     name  \\\n",
       "0      2020/07/27  15:04  PHP GUY   \n",
       "1      2020/07/27  15:08   Wezley   \n",
       "2      2020/07/27  15:18  PHP GUY   \n",
       "3      2020/07/27  15:19   Wezley   \n",
       "4      2020/07/27  17:57       Mo   \n",
       "...           ...    ...      ...   \n",
       "11511  2023/04/09  21:24   Neelan   \n",
       "11512  2023/04/09  21:24   Neelan   \n",
       "11513  2023/04/09  21:32  PHP GUY   \n",
       "11514  2023/04/09  21:32  PHP GUY   \n",
       "11515  2023/04/09  21:33  Tristan   \n",
       "\n",
       "                                                    text  \n",
       "0                                        <Media omitted>  \n",
       "1           Someone didn't think this through properly 😂  \n",
       "2                                                   Bra😂  \n",
       "3      I wonder how many people at Sony saw this befo...  \n",
       "4        Why is the 12-month deal so expensive holy shit  \n",
       "...                                                  ...  \n",
       "11511                                          Thats mad  \n",
       "11512    I changed the name of the code and chat channel  \n",
       "11513                                    <Media omitted>  \n",
       "11514                                       @27725810445  \n",
       "11515            😪everyday we stay further away from God  \n",
       "\n",
       "[11516 rows x 4 columns]"
      ]
     },
     "execution_count": 15,
     "metadata": {},
     "output_type": "execute_result"
    }
   ],
   "source": [
    "chat_data"
   ]
  }
 ],
 "metadata": {
  "kernelspec": {
   "display_name": "Python 3",
   "language": "python",
   "name": "python3"
  },
  "language_info": {
   "codemirror_mode": {
    "name": "ipython",
    "version": 3
   },
   "file_extension": ".py",
   "mimetype": "text/x-python",
   "name": "python",
   "nbconvert_exporter": "python",
   "pygments_lexer": "ipython3",
   "version": "3.7.9"
  },
  "orig_nbformat": 4
 },
 "nbformat": 4,
 "nbformat_minor": 2
}
