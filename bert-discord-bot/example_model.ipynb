{
 "cells": [
  {
   "cell_type": "code",
   "execution_count": 1,
   "metadata": {},
   "outputs": [],
   "source": [
    "import torch\n",
    "from transformers import BertForQuestionAnswering\n",
    "from transformers import BertTokenizer"
   ]
  },
  {
   "cell_type": "code",
   "execution_count": 2,
   "metadata": {},
   "outputs": [],
   "source": [
    "#Model\n",
    "model = BertForQuestionAnswering.from_pretrained('bert-large-uncased-whole-word-masking-finetuned-squad')\n",
    "\n",
    "#Tokenizer\n",
    "tokenizer = BertTokenizer.from_pretrained('bert-large-uncased-whole-word-masking-finetuned-squad')"
   ]
  },
  {
   "cell_type": "code",
   "execution_count": 3,
   "metadata": {},
   "outputs": [],
   "source": [
    "\n",
    "#question = '''What is Machine Learning?'''\n",
    "question = \"Who is machine learning also called?\"\n",
    "\n",
    "paragraph = ''' Machine learning (ML) is the scientific study of algorithms and statistical models that computer systems use to progressively improve their performance \n",
    "                on a specific task. Machine learning algorithms build a mathematical model of sample data, known as \"training data\", in order to make predictions or \n",
    "                decisions without being explicitly programmed to perform the task. Machine learning algorithms are used in the applications of email filtering, detection \n",
    "                of network intruders, and computer vision, where it is infeasible to develop an algorithm of specific instructions for performing the task. Machine learning \n",
    "                is closely related to computational statistics, which focuses on making predictions using computers. The study of mathematical optimization delivers methods, \n",
    "                theory and application domains to the field of machine learning. Data mining is a field of study within machine learning, and focuses on exploratory \n",
    "                data analysis through unsupervised learning.In its application across business problems, machine learning is also referred to as predictive analytics.\n",
    "                 Jim Henson was a nice puppet '''\n",
    "            \n",
    "encoding = tokenizer.encode_plus(text=question,text_pair=paragraph)\n",
    "\n",
    "inputs = encoding['input_ids']  #Token embeddings\n",
    "sentence_embedding = encoding['token_type_ids']  #Segment embeddings\n",
    "tokens = tokenizer.convert_ids_to_tokens(inputs) #input tokens"
   ]
  },
  {
   "cell_type": "code",
   "execution_count": 4,
   "metadata": {},
   "outputs": [
    {
     "name": "stdout",
     "output_type": "stream",
     "text": [
      "[101, 2040, 2003, 3698, 4083, 2036, 2170, 1029, 102, 3698, 4083, 1006, 19875, 1007, 2003, 1996, 4045, 2817, 1997, 13792, 1998, 7778, 4275, 2008, 3274, 3001, 2224, 2000, 20519, 5335, 2037, 2836, 2006, 1037, 3563, 4708, 1012, 3698, 4083, 13792, 3857, 1037, 8045, 2944, 1997, 7099, 2951, 1010, 2124, 2004, 1000, 2731, 2951, 1000, 1010, 1999, 2344, 2000, 2191, 20932, 2030, 6567, 2302, 2108, 12045, 16984, 2000, 4685, 1996, 4708, 1012, 3698, 4083, 13792, 2024, 2109, 1999, 1996, 5097, 1997, 10373, 22910, 1010, 10788, 1997, 2897, 22841, 2015, 1010, 1998, 3274, 4432, 1010, 2073, 2009, 2003, 1999, 7959, 21369, 3468, 2000, 4503, 2019, 9896, 1997, 3563, 8128, 2005, 4488, 1996, 4708, 1012, 3698, 4083, 2003, 4876, 3141, 2000, 15078, 6747, 1010, 2029, 7679, 2006, 2437, 20932, 2478, 7588, 1012, 1996, 2817, 1997, 8045, 20600, 18058, 4725, 1010, 3399, 1998, 4646, 13100, 2000, 1996, 2492, 1997, 3698, 4083, 1012, 2951, 5471, 2003, 1037, 2492, 1997, 2817, 2306, 3698, 4083, 1010, 1998, 7679, 2006, 4654, 24759, 6525, 7062, 2951, 4106, 2083, 4895, 6342, 4842, 11365, 2098, 4083, 1012, 1999, 2049, 4646, 2408, 2449, 3471, 1010, 3698, 4083, 2003, 2036, 3615, 2000, 2004, 16014, 3512, 25095, 1012, 3958, 27227, 2001, 1037, 3835, 13997, 102]\n"
     ]
    }
   ],
   "source": [
    "print(inputs)"
   ]
  },
  {
   "cell_type": "code",
   "execution_count": 5,
   "metadata": {},
   "outputs": [],
   "source": [
    "scores = model(input_ids=torch.tensor([inputs]), token_type_ids=torch.tensor([sentence_embedding]))\n",
    "start_scores = scores[0]\n",
    "end_scores = scores[1]"
   ]
  },
  {
   "cell_type": "code",
   "execution_count": 6,
   "metadata": {},
   "outputs": [],
   "source": [
    "start_index = torch.argmax(start_scores)\n",
    "\n",
    "end_index = torch.argmax(end_scores)\n",
    "\n",
    "answer = ' '.join(tokens[start_index:end_index+1])"
   ]
  },
  {
   "cell_type": "code",
   "execution_count": 7,
   "metadata": {},
   "outputs": [
    {
     "name": "stdout",
     "output_type": "stream",
     "text": [
      " predictive analytics\n"
     ]
    }
   ],
   "source": [
    "corrected_answer = ''\n",
    "\n",
    "for word in answer.split():\n",
    "    \n",
    "    #If it's a subword token\n",
    "    if word[0:2] == '##':\n",
    "        corrected_answer += word[2:]\n",
    "    else:\n",
    "        corrected_answer += ' ' + word\n",
    "\n",
    "print(corrected_answer)"
   ]
  }
 ],
 "metadata": {
  "kernelspec": {
   "display_name": "Python 3",
   "language": "python",
   "name": "python3"
  },
  "language_info": {
   "codemirror_mode": {
    "name": "ipython",
    "version": 3
   },
   "file_extension": ".py",
   "mimetype": "text/x-python",
   "name": "python",
   "nbconvert_exporter": "python",
   "pygments_lexer": "ipython3",
   "version": "3.7.9"
  },
  "orig_nbformat": 4
 },
 "nbformat": 4,
 "nbformat_minor": 2
}
